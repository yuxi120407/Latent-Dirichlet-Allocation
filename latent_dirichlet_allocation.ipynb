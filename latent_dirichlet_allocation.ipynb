{
 "cells": [
  {
   "cell_type": "code",
   "execution_count": 1,
   "metadata": {},
   "outputs": [
    {
     "name": "stdout",
     "output_type": "stream",
     "text": [
      "tensorflow\n"
     ]
    }
   ],
   "source": [
    "import os\n",
    "os.environ[\"KERAS_BACKEND\"] = \"tensorflow\"\n",
    "kerasBKED = os.environ[\"KERAS_BACKEND\"] \n",
    "print(kerasBKED)"
   ]
  },
  {
   "cell_type": "code",
   "execution_count": 2,
   "metadata": {},
   "outputs": [
    {
     "name": "stderr",
     "output_type": "stream",
     "text": [
      "Using TensorFlow backend.\n"
     ]
    }
   ],
   "source": [
    "from keras.preprocessing.image import ImageDataGenerator,array_to_img, img_to_array, load_img\n",
    "import glob\n",
    "from skimage.io import imread\n",
    "from PIL import Image\n",
    "import matplotlib.pyplot as plt\n",
    "import numpy as np \n",
    "import os\n",
    "from keras import backend as K\n",
    "from sklearn.cluster import MiniBatchKMeans,KMeans\n",
    "from collections import Counter\n",
    "from sklearn.decomposition import PCA\n",
    "import lda\n",
    "import time\n",
    "#%%\n",
    "import keras\n",
    "from keras.models import Sequential\n",
    "from keras.layers import Dense, Dropout, Activation, Flatten,Input\n",
    "from keras.layers import Conv2D, MaxPooling2D\n",
    "from keras import backend as K\n",
    "from function import newtxt,newimagedata,create_plots,plot_confusion_matrix,cnn_model,cnn_model1,cnn_model2\n",
    "\n",
    "from sklearn.metrics import classification_report, confusion_matrix\n",
    "import numpy as np \n",
    "import os\n",
    "from keras.utils.vis_utils import plot_model\n",
    "from sklearn.decomposition import PCA"
   ]
  },
  {
   "cell_type": "code",
   "execution_count": 3,
   "metadata": {},
   "outputs": [
    {
     "name": "stdout",
     "output_type": "stream",
     "text": [
      "---image 1 finished\n",
      "---image 2 finished\n",
      "---image 3 finished\n",
      "---image 4 finished\n",
      "---image 5 finished\n",
      "---image 6 finished\n",
      "---image 7 finished\n",
      "---image 8 finished\n",
      "---image 9 finished\n",
      "---image 10 finished\n",
      "---image 11 finished\n",
      "---image 12 finished\n",
      "---image 13 finished\n",
      "---image 14 finished\n",
      "---image 15 finished\n",
      "---image 16 finished\n",
      "---image 17 finished\n",
      "---image 18 finished\n",
      "---image 19 finished\n",
      "---image 20 finished\n",
      "---image 21 finished\n",
      "---image 22 finished\n",
      "---image 23 finished\n",
      "---image 24 finished\n",
      "---image 25 finished\n",
      "---image 26 finished\n",
      "---image 27 finished\n",
      "---image 28 finished\n",
      "---image 29 finished\n",
      "---image 30 finished\n",
      "---image 31 finished\n",
      "---image 32 finished\n",
      "---image 33 finished\n",
      "---image 34 finished\n",
      "---image 35 finished\n",
      "---image 36 finished\n",
      "---image 37 finished\n",
      "---image 38 finished\n",
      "---image 39 finished\n",
      "---image 40 finished\n",
      "---image 41 finished\n",
      "---image 42 finished\n",
      "---image 43 finished\n",
      "---image 44 finished\n",
      "---image 45 finished\n",
      "---image 46 finished\n",
      "---image 47 finished\n",
      "---image 48 finished\n",
      "---image 49 finished\n",
      "---image 50 finished\n",
      "---image 51 finished\n",
      "---image 52 finished\n",
      "---image 53 finished\n",
      "---image 54 finished\n",
      "---image 55 finished\n",
      "---image 56 finished\n",
      "---image 57 finished\n",
      "---image 58 finished\n",
      "---image 59 finished\n",
      "---image 60 finished\n",
      "---image 61 finished\n",
      "---image 62 finished\n",
      "---image 63 finished\n",
      "---image 64 finished\n",
      "---image 65 finished\n",
      "---image 66 finished\n",
      "---image 67 finished\n",
      "---image 68 finished\n",
      "---image 69 finished\n",
      "---image 70 finished\n",
      "---image 71 finished\n",
      "---image 72 finished\n",
      "---image 73 finished\n",
      "---image 74 finished\n",
      "---image 75 finished\n",
      "---image 76 finished\n",
      "---image 77 finished\n",
      "---image 78 finished\n",
      "---image 79 finished\n",
      "---image 80 finished\n",
      "---image 81 finished\n",
      "---image 82 finished\n",
      "---image 83 finished\n",
      "---image 84 finished\n",
      "---image 85 finished\n",
      "---image 86 finished\n",
      "---image 87 finished\n",
      "---image 88 finished\n",
      "---image 89 finished\n",
      "---image 90 finished\n",
      "---image 91 finished\n",
      "---image 92 finished\n",
      "---image 93 finished\n",
      "---image 94 finished\n",
      "---image 95 finished\n",
      "---image 96 finished\n",
      "---image 97 finished\n",
      "---image 98 finished\n",
      "---image 99 finished\n",
      "---image 100 finished\n",
      "---image 101 finished\n",
      "---image 102 finished\n",
      "---image 103 finished\n",
      "---image 104 finished\n",
      "---image 105 finished\n",
      "---image 106 finished\n",
      "---image 107 finished\n",
      "---image 108 finished\n",
      "---image 109 finished\n",
      "---image 110 finished\n",
      "---image 111 finished\n",
      "---image 112 finished\n",
      "---image 113 finished\n",
      "---image 114 finished\n",
      "---image 115 finished\n",
      "---image 116 finished\n",
      "---image 117 finished\n",
      "---image 118 finished\n",
      "---image 119 finished\n",
      "---image 120 finished\n"
     ]
    }
   ],
   "source": [
    "count = 0\n",
    "all_divide_image = np.zeros([1,32,32,3])\n",
    "read_files = glob.glob(\"./2012raw_data/*.txt\")\n",
    "for name in read_files:\n",
    "    name = name.split(\"/\")[2]\n",
    "    name = name.split(\".\")[0]\n",
    "    path_image = str('./2012image/')+name+str('.jpg')\n",
    "    single_img = imread(path_image)\n",
    "    divide_image = np.zeros([3072,32,32,3])\n",
    "    count_patch = 0\n",
    "    for i in range(64):\n",
    "        for j in range(48):\n",
    "            divide_image[count_patch,:,:,:] = single_img[j*32:(j+1)*32,i*32:(i+1)*32]\n",
    "            count_patch = count_patch + 1\n",
    "    all_divide_image = np.vstack((all_divide_image,divide_image))\n",
    "    count = count + 1\n",
    "    print(\"---image %d finished\" % (count))"
   ]
  },
  {
   "cell_type": "code",
   "execution_count": 4,
   "metadata": {},
   "outputs": [],
   "source": [
    "all_divide_image = all_divide_image[1:]"
   ]
  },
  {
   "cell_type": "code",
   "execution_count": 5,
   "metadata": {},
   "outputs": [],
   "source": [
    "num = all_divide_image.shape[0]\n",
    "all_divide_image = all_divide_image.reshape(num,3072)"
   ]
  },
  {
   "cell_type": "code",
   "execution_count": 6,
   "metadata": {},
   "outputs": [],
   "source": [
    "import random\n",
    "random.shuffle(all_divide_image)"
   ]
  },
  {
   "cell_type": "code",
   "execution_count": 8,
   "metadata": {},
   "outputs": [
    {
     "data": {
      "text/plain": [
       "(368640, 32, 32, 3)"
      ]
     },
     "execution_count": 8,
     "metadata": {},
     "output_type": "execute_result"
    }
   ],
   "source": [
    "all_divide_image = all_divide_image.reshape(num,32,32,3)\n",
    "all_divide_image.shape"
   ]
  },
  {
   "cell_type": "code",
   "execution_count": 9,
   "metadata": {},
   "outputs": [],
   "source": [
    "batch_size = 128\n",
    "num_classes = 10\n",
    "epochs = 100\n",
    "x_train = all_divide_image[0:300000]\n",
    "x_test = all_divide_image[300000:]"
   ]
  },
  {
   "cell_type": "code",
   "execution_count": 10,
   "metadata": {},
   "outputs": [
    {
     "name": "stdout",
     "output_type": "stream",
     "text": [
      "x_train shape: (300000, 32, 32, 3)\n",
      "300000 train samples\n",
      "68640 test samples\n"
     ]
    }
   ],
   "source": [
    "x_train = x_train.astype('float32')\n",
    "x_test = x_test.astype('float32')\n",
    "x_train /= 255\n",
    "x_test /= 255\n",
    "print('x_train shape:', x_train.shape)\n",
    "print(x_train.shape[0], 'train samples')\n",
    "print(x_test.shape[0], 'test samples')"
   ]
  },
  {
   "cell_type": "code",
   "execution_count": 10,
   "metadata": {},
   "outputs": [],
   "source": [
    "from keras.layers import Input,BatchNormalization,UpSampling2D\n",
    "from keras.models import load_model,Model"
   ]
  },
  {
   "cell_type": "code",
   "execution_count": 24,
   "metadata": {},
   "outputs": [],
   "source": [
    "input_img = Input(shape=(32, 32, 3))\n",
    "x = Conv2D(64, (3, 3), padding='same')(input_img)\n",
    "x = BatchNormalization()(x)\n",
    "x = Activation('relu')(x)\n",
    "x = MaxPooling2D((2, 2), padding='same')(x)\n",
    "x = Conv2D(32, (3, 3), padding='same')(x)\n",
    "x = BatchNormalization()(x)\n",
    "x = Activation('relu')(x)\n",
    "x = MaxPooling2D((2, 2), padding='same')(x)\n",
    "x = Conv2D(16, (3, 3), padding='same')(x)\n",
    "x = BatchNormalization()(x)\n",
    "x = Activation('relu')(x)\n",
    "encoded = MaxPooling2D((2, 2), padding='same')(x)\n",
    "\n",
    "x = Conv2D(16, (3, 3), padding='same')(encoded)\n",
    "x = BatchNormalization()(x)\n",
    "x = Activation('relu')(x)\n",
    "x = UpSampling2D((2, 2))(x)\n",
    "x = Conv2D(32, (3, 3), padding='same')(x)\n",
    "x = BatchNormalization()(x)\n",
    "x = Activation('relu')(x)\n",
    "x = UpSampling2D((2, 2))(x)\n",
    "x = Conv2D(64, (3, 3), padding='same')(x)\n",
    "x = BatchNormalization()(x)\n",
    "x = Activation('relu')(x)\n",
    "x = UpSampling2D((2, 2))(x)\n",
    "x = Conv2D(3, (3, 3), padding='same')(x)\n",
    "x = BatchNormalization()(x)\n",
    "decoded = Activation('sigmoid')(x)"
   ]
  },
  {
   "cell_type": "code",
   "execution_count": 25,
   "metadata": {},
   "outputs": [],
   "source": [
    "model = Model(input_img, decoded)\n",
    "model.compile(optimizer='adam', loss='binary_crossentropy')"
   ]
  },
  {
   "cell_type": "code",
   "execution_count": 26,
   "metadata": {},
   "outputs": [
    {
     "name": "stdout",
     "output_type": "stream",
     "text": [
      "_________________________________________________________________\n",
      "Layer (type)                 Output Shape              Param #   \n",
      "=================================================================\n",
      "input_2 (InputLayer)         (None, 32, 32, 3)         0         \n",
      "_________________________________________________________________\n",
      "conv2d_10 (Conv2D)           (None, 32, 32, 64)        1792      \n",
      "_________________________________________________________________\n",
      "batch_normalization_10 (Batc (None, 32, 32, 64)        256       \n",
      "_________________________________________________________________\n",
      "activation_11 (Activation)   (None, 32, 32, 64)        0         \n",
      "_________________________________________________________________\n",
      "max_pooling2d_5 (MaxPooling2 (None, 16, 16, 64)        0         \n",
      "_________________________________________________________________\n",
      "conv2d_11 (Conv2D)           (None, 16, 16, 32)        18464     \n",
      "_________________________________________________________________\n",
      "batch_normalization_11 (Batc (None, 16, 16, 32)        128       \n",
      "_________________________________________________________________\n",
      "activation_12 (Activation)   (None, 16, 16, 32)        0         \n",
      "_________________________________________________________________\n",
      "max_pooling2d_6 (MaxPooling2 (None, 8, 8, 32)          0         \n",
      "_________________________________________________________________\n",
      "conv2d_12 (Conv2D)           (None, 8, 8, 16)          4624      \n",
      "_________________________________________________________________\n",
      "batch_normalization_12 (Batc (None, 8, 8, 16)          64        \n",
      "_________________________________________________________________\n",
      "activation_13 (Activation)   (None, 8, 8, 16)          0         \n",
      "_________________________________________________________________\n",
      "max_pooling2d_7 (MaxPooling2 (None, 4, 4, 16)          0         \n",
      "_________________________________________________________________\n",
      "conv2d_13 (Conv2D)           (None, 4, 4, 16)          2320      \n",
      "_________________________________________________________________\n",
      "batch_normalization_13 (Batc (None, 4, 4, 16)          64        \n",
      "_________________________________________________________________\n",
      "activation_14 (Activation)   (None, 4, 4, 16)          0         \n",
      "_________________________________________________________________\n",
      "up_sampling2d_5 (UpSampling2 (None, 8, 8, 16)          0         \n",
      "_________________________________________________________________\n",
      "conv2d_14 (Conv2D)           (None, 8, 8, 32)          4640      \n",
      "_________________________________________________________________\n",
      "batch_normalization_14 (Batc (None, 8, 8, 32)          128       \n",
      "_________________________________________________________________\n",
      "activation_15 (Activation)   (None, 8, 8, 32)          0         \n",
      "_________________________________________________________________\n",
      "up_sampling2d_6 (UpSampling2 (None, 16, 16, 32)        0         \n",
      "_________________________________________________________________\n",
      "conv2d_15 (Conv2D)           (None, 16, 16, 64)        18496     \n",
      "_________________________________________________________________\n",
      "batch_normalization_15 (Batc (None, 16, 16, 64)        256       \n",
      "_________________________________________________________________\n",
      "activation_16 (Activation)   (None, 16, 16, 64)        0         \n",
      "_________________________________________________________________\n",
      "up_sampling2d_7 (UpSampling2 (None, 32, 32, 64)        0         \n",
      "_________________________________________________________________\n",
      "conv2d_16 (Conv2D)           (None, 32, 32, 3)         1731      \n",
      "_________________________________________________________________\n",
      "batch_normalization_16 (Batc (None, 32, 32, 3)         12        \n",
      "_________________________________________________________________\n",
      "activation_17 (Activation)   (None, 32, 32, 3)         0         \n",
      "=================================================================\n",
      "Total params: 52,975\n",
      "Trainable params: 52,521\n",
      "Non-trainable params: 454\n",
      "_________________________________________________________________\n"
     ]
    }
   ],
   "source": [
    "model.summary()"
   ]
  },
  {
   "cell_type": "code",
   "execution_count": 27,
   "metadata": {},
   "outputs": [
    {
     "name": "stdout",
     "output_type": "stream",
     "text": [
      "validation data: (20000, 32, 32, 3) \n",
      "test data: (28640, 32, 32, 3)\n"
     ]
    }
   ],
   "source": [
    "x_val = x_test[:20000]\n",
    "x_test = x_test[20000:]\n",
    "print(\"validation data: {0} \\ntest data: {1}\".format(x_val.shape, x_test.shape))"
   ]
  },
  {
   "cell_type": "code",
   "execution_count": 15,
   "metadata": {},
   "outputs": [],
   "source": [
    "from keras.callbacks import EarlyStopping, ModelCheckpoint\n",
    "es_cb = EarlyStopping(monitor='val_loss', patience=2, verbose=1, mode='auto')\n",
    "chkpt = 'AutoEncoder_weights.{epoch:02d}-{loss:.2f}-{val_loss:.2f}.hdf5'\n",
    "cp_cb = ModelCheckpoint(filepath = chkpt, monitor='val_loss', verbose=1, save_best_only=True, mode='auto')"
   ]
  },
  {
   "cell_type": "code",
   "execution_count": 16,
   "metadata": {},
   "outputs": [
    {
     "name": "stdout",
     "output_type": "stream",
     "text": [
      "Train on 300000 samples, validate on 20000 samples\n",
      "Epoch 1/100\n",
      "300000/300000 [==============================] - 179s 598us/step - loss: 0.5481 - val_loss: 0.5411\n",
      "\n",
      "Epoch 00001: val_loss improved from inf to 0.54112, saving model to AutoEncoder_weights.01-0.55-0.54.hdf5\n",
      "Epoch 2/100\n",
      "300000/300000 [==============================] - 178s 593us/step - loss: 0.5405 - val_loss: 0.5378\n",
      "\n",
      "Epoch 00002: val_loss improved from 0.54112 to 0.53780, saving model to AutoEncoder_weights.02-0.54-0.54.hdf5\n",
      "Epoch 3/100\n",
      "300000/300000 [==============================] - 178s 593us/step - loss: 0.5390 - val_loss: 0.5364\n",
      "\n",
      "Epoch 00003: val_loss improved from 0.53780 to 0.53645, saving model to AutoEncoder_weights.03-0.54-0.54.hdf5\n",
      "Epoch 4/100\n",
      "300000/300000 [==============================] - 178s 592us/step - loss: 0.5383 - val_loss: 0.5352\n",
      "\n",
      "Epoch 00004: val_loss improved from 0.53645 to 0.53521, saving model to AutoEncoder_weights.04-0.54-0.54.hdf5\n",
      "Epoch 5/100\n",
      "300000/300000 [==============================] - 178s 593us/step - loss: 0.5377 - val_loss: 0.5349\n",
      "\n",
      "Epoch 00005: val_loss improved from 0.53521 to 0.53494, saving model to AutoEncoder_weights.05-0.54-0.53.hdf5\n",
      "Epoch 6/100\n",
      "300000/300000 [==============================] - 178s 593us/step - loss: 0.5373 - val_loss: 0.5353\n",
      "\n",
      "Epoch 00006: val_loss did not improve\n",
      "Epoch 7/100\n",
      "300000/300000 [==============================] - 178s 593us/step - loss: 0.5370 - val_loss: 0.5345\n",
      "\n",
      "Epoch 00007: val_loss improved from 0.53494 to 0.53446, saving model to AutoEncoder_weights.07-0.54-0.53.hdf5\n",
      "Epoch 8/100\n",
      "300000/300000 [==============================] - 178s 593us/step - loss: 0.5368 - val_loss: 0.5359\n",
      "\n",
      "Epoch 00008: val_loss did not improve\n",
      "Epoch 9/100\n",
      "300000/300000 [==============================] - 178s 592us/step - loss: 0.5367 - val_loss: 0.5346\n",
      "\n",
      "Epoch 00009: val_loss did not improve\n",
      "Epoch 00009: early stopping\n"
     ]
    }
   ],
   "source": [
    "history = model.fit(x_train, x_train,\n",
    "                    batch_size=batch_size,\n",
    "                    epochs=epochs,\n",
    "                    verbose=1,\n",
    "                    validation_data=(x_val, x_val),\n",
    "                    callbacks=[es_cb, cp_cb],\n",
    "                    shuffle=True)"
   ]
  },
  {
   "cell_type": "code",
   "execution_count": 33,
   "metadata": {},
   "outputs": [],
   "source": [
    "# load pretrained weights\n",
    "model.load_weights(\"AutoEncoder_weights.07-0.53-0.53.hdf5\")"
   ]
  },
  {
   "cell_type": "code",
   "execution_count": 75,
   "metadata": {},
   "outputs": [],
   "source": [
    "from keras import backend as K\n",
    "bottom_output = K.function([model.layers[0].input],[model.layers[15].output])"
   ]
  },
  {
   "cell_type": "code",
   "execution_count": 74,
   "metadata": {},
   "outputs": [
    {
     "data": {
      "text/plain": [
       "<keras.layers.core.Activation at 0x7f3a3515acf8>"
      ]
     },
     "execution_count": 74,
     "metadata": {},
     "output_type": "execute_result"
    }
   ],
   "source": [
    "model.layers[15]"
   ]
  },
  {
   "cell_type": "code",
   "execution_count": 40,
   "metadata": {},
   "outputs": [],
   "source": [
    "# definition to show original image and reconstructed image\n",
    "def showOrigDec(orig, dec, num=10):\n",
    "    import matplotlib.pyplot as plt\n",
    "    n = num\n",
    "    plt.figure(figsize=(20, 4))\n",
    "\n",
    "    for i in range(n):\n",
    "        # display original\n",
    "        ax = plt.subplot(2, n, i+1)\n",
    "        plt.imshow(orig[i].reshape(32, 32, 3))\n",
    "        ax.get_xaxis().set_visible(False)\n",
    "        ax.get_yaxis().set_visible(False)\n",
    "\n",
    "        # display reconstruction\n",
    "        ax = plt.subplot(2, n, i +1 + n)\n",
    "        plt.imshow(dec[i].reshape(32, 32, 3))\n",
    "        ax.get_xaxis().set_visible(False)\n",
    "        ax.get_yaxis().set_visible(False)\n",
    "    plt.show()"
   ]
  },
  {
   "cell_type": "code",
   "execution_count": 41,
   "metadata": {},
   "outputs": [
    {
     "name": "stdout",
     "output_type": "stream",
     "text": [
      "28640/28640 [==============================] - 8s 275us/step\n",
      "20000/20000 [==============================] - 5s 268us/step\n"
     ]
    }
   ],
   "source": [
    "c10test = model.predict(x_test,verbose=1)\n",
    "c10val = model.predict(x_val,verbose=1)"
   ]
  },
  {
   "cell_type": "code",
   "execution_count": 42,
   "metadata": {},
   "outputs": [
    {
     "data": {
      "image/png": "[encoded data removed]",
      "text/plain": [
       "<Figure size 1440x288 with 20 Axes>"
      ]
     },
     "metadata": {
      "needs_background": "light"
     },
     "output_type": "display_data"
    }
   ],
   "source": [
    "showOrigDec(x_test[300:400], c10test[300:400])"
   ]
  },
  {
   "cell_type": "code",
   "execution_count": 76,
   "metadata": {},
   "outputs": [
    {
     "data": {
      "image/png": "[encoded data removed]",
      "text/plain": [
       "<Figure size 432x288 with 16 Axes>"
      ]
     },
     "metadata": {
      "needs_background": "light"
     },
     "output_type": "display_data"
    }
   ],
   "source": [
    "sample_image = all_divide_image[40:41]/255\n",
    "sample_output = bottom_output([sample_image])[0]\n",
    "\n",
    "show_layer = sample_output[0]\n",
    "for _ in range(16):            \n",
    "    show_img = sample_output[:, :, :, _]            \n",
    "    show_img.shape = [4, 4]            \n",
    "    plt.subplot(4, 4, _ + 1)            \n",
    "    plt.imshow(show_img, cmap='gray')            \n",
    "    plt.axis('off')\n",
    "plt.show()"
   ]
  },
  {
   "cell_type": "code",
   "execution_count": 77,
   "metadata": {},
   "outputs": [
    {
     "name": "stdout",
     "output_type": "stream",
     "text": [
      "[[[[1.9857111  1.6339027  0.94079477 1.5565308  1.580227   0.47068578\n",
      "    0.8337424  0.         1.5704162  1.4178089  1.1275656  0.\n",
      "    1.5939922  2.882517   0.894888   1.1984956 ]\n",
      "   [2.0358796  1.4823725  1.1484934  0.9289593  1.2114043  0.28406847\n",
      "    1.2464414  0.         1.8201904  2.0265512  0.9606834  0.\n",
      "    1.2188723  2.7568705  0.         0.9252934 ]\n",
      "   [1.8112291  1.6131809  1.3736529  1.0266845  1.2644186  0.54242176\n",
      "    1.0735908  0.         1.7034779  2.1186287  0.9197316  0.\n",
      "    1.1981108  2.683935   0.         0.7766663 ]\n",
      "   [2.2192152  1.3535615  1.1158739  0.94325686 1.2760353  0.\n",
      "    0.72789156 0.434237   1.7431629  1.6279998  0.82397324 0.6732005\n",
      "    1.4631839  2.5229151  0.         1.242239  ]]\n",
      "\n",
      "  [[2.0895662  1.8681779  1.1270981  1.1890805  0.983957   0.04665911\n",
      "    1.0688564  0.         1.3452318  1.783352   1.2095517  0.\n",
      "    1.9168601  1.9137464  1.2741479  1.0168922 ]\n",
      "   [2.3427677  1.7869272  1.1367818  0.9913004  0.86268985 0.2866761\n",
      "    1.0756522  0.         1.3700156  1.9970725  1.1546443  0.\n",
      "    1.8429176  1.6347997  0.         0.9368524 ]\n",
      "   [2.3685234  1.8951347  1.3384311  0.82897323 0.95689136 0.56232905\n",
      "    1.071769   0.         1.2975612  2.0829065  1.1001322  0.\n",
      "    1.6254536  1.7946732  0.         1.0561523 ]\n",
      "   [2.5387707  1.6176052  1.6661885  0.7884208  0.80592656 0.\n",
      "    0.7539046  0.43033075 1.0350293  2.1790457  1.0822202  0.93940973\n",
      "    1.3615288  1.8700567  0.         1.5186778 ]]\n",
      "\n",
      "  [[1.864576   1.8619137  0.9517794  1.293106   1.0346259  0.27258128\n",
      "    1.3751022  0.         1.1732291  1.4846598  1.2971426  0.\n",
      "    1.9410965  1.2900679  1.2813863  0.9763906 ]\n",
      "   [1.8260591  1.7378469  1.0153825  0.8928245  0.961853   0.19094062\n",
      "    1.6363142  0.         1.1807241  1.7222399  1.2938247  0.\n",
      "    1.7437465  1.3196644  0.         1.2879186 ]\n",
      "   [1.7164748  1.8038924  0.9181555  0.9999217  1.3059916  0.16103923\n",
      "    1.8559332  0.         1.2162136  1.7711108  1.2226195  0.\n",
      "    1.5331967  1.1789887  0.         1.4160438 ]\n",
      "   [2.0000758  1.5736983  0.682798   0.94015276 1.5466095  0.\n",
      "    1.6520274  1.3513951  1.1783222  1.6969151  1.0929002  1.140287\n",
      "    1.8894804  1.170728   0.         1.5538235 ]]\n",
      "\n",
      "  [[1.6015692  1.5948961  1.1898534  2.1416454  1.5384316  0.\n",
      "    2.0458455  0.63983595 1.3970329  0.93405503 1.4256439  0.54588175\n",
      "    1.5176009  0.7620212  1.1735114  1.7866069 ]\n",
      "   [1.7206928  1.5569983  1.17564    1.5341773  1.5472794  0.\n",
      "    2.27597    0.89328575 1.4684533  1.0436112  1.4872038  0.64711297\n",
      "    1.3240172  0.84207    0.         1.7352599 ]\n",
      "   [1.5584742  1.6089478  1.0785744  1.5916431  1.7577794  0.\n",
      "    2.2822366  0.8196008  1.2427173  1.1985686  1.5146676  0.5679821\n",
      "    1.4583845  0.93902016 0.         1.645611  ]\n",
      "   [1.8883432  1.6422689  0.79804075 1.5357763  1.9132376  0.\n",
      "    2.2866755  1.7471647  1.2307507  0.913554   1.625705   1.1286527\n",
      "    1.1710705  0.6829004  0.         1.9609315 ]]]]\n"
     ]
    }
   ],
   "source": [
    "print(sample_output)"
   ]
  },
  {
   "cell_type": "code",
   "execution_count": 24,
   "metadata": {},
   "outputs": [],
   "source": [
    "import lda"
   ]
  },
  {
   "cell_type": "code",
   "execution_count": 25,
   "metadata": {},
   "outputs": [
    {
     "data": {
      "text/plain": [
       "(48640, 32, 32, 3)"
      ]
     },
     "execution_count": 25,
     "metadata": {},
     "output_type": "execute_result"
    }
   ],
   "source": [
    "c10test.shape"
   ]
  },
  {
   "cell_type": "code",
   "execution_count": 78,
   "metadata": {},
   "outputs": [
    {
     "name": "stdout",
     "output_type": "stream",
     "text": [
      "---image 0 finished\n",
      "---image 1 finished\n",
      "---image 2 finished\n",
      "---image 3 finished\n",
      "---image 4 finished\n",
      "---image 5 finished\n",
      "---image 6 finished\n",
      "---image 7 finished\n",
      "---image 8 finished\n",
      "---image 9 finished\n",
      "---image 10 finished\n",
      "---image 11 finished\n",
      "---image 12 finished\n",
      "---image 13 finished\n",
      "---image 14 finished\n",
      "---image 15 finished\n",
      "---image 16 finished\n",
      "---image 17 finished\n",
      "---image 18 finished\n",
      "---image 19 finished\n",
      "---image 20 finished\n",
      "---image 21 finished\n",
      "---image 22 finished\n",
      "---image 23 finished\n",
      "---image 24 finished\n",
      "---image 25 finished\n",
      "---image 26 finished\n",
      "---image 27 finished\n",
      "---image 28 finished\n",
      "---image 29 finished\n",
      "---image 30 finished\n",
      "---image 31 finished\n",
      "---image 32 finished\n",
      "---image 33 finished\n",
      "---image 34 finished\n",
      "---image 35 finished\n",
      "---image 36 finished\n",
      "---image 37 finished\n",
      "---image 38 finished\n",
      "---image 39 finished\n",
      "---image 40 finished\n",
      "---image 41 finished\n",
      "---image 42 finished\n",
      "---image 43 finished\n",
      "---image 44 finished\n",
      "---image 45 finished\n",
      "---image 46 finished\n",
      "---image 47 finished\n",
      "---image 48 finished\n",
      "---image 49 finished\n",
      "---image 50 finished\n",
      "---image 51 finished\n",
      "---image 52 finished\n",
      "---image 53 finished\n",
      "---image 54 finished\n",
      "---image 55 finished\n",
      "---image 56 finished\n",
      "---image 57 finished\n",
      "---image 58 finished\n",
      "---image 59 finished\n",
      "---image 60 finished\n",
      "---image 61 finished\n",
      "---image 62 finished\n",
      "---image 63 finished\n",
      "---image 64 finished\n",
      "---image 65 finished\n",
      "---image 66 finished\n",
      "---image 67 finished\n",
      "---image 68 finished\n",
      "---image 69 finished\n",
      "---image 70 finished\n",
      "---image 71 finished\n",
      "---image 72 finished\n",
      "---image 73 finished\n",
      "---image 74 finished\n",
      "---image 75 finished\n",
      "---image 76 finished\n",
      "---image 77 finished\n",
      "---image 78 finished\n",
      "---image 79 finished\n",
      "---image 80 finished\n",
      "---image 81 finished\n",
      "---image 82 finished\n",
      "---image 83 finished\n",
      "---image 84 finished\n",
      "---image 85 finished\n",
      "---image 86 finished\n",
      "---image 87 finished\n",
      "---image 88 finished\n",
      "---image 89 finished\n",
      "---image 90 finished\n",
      "---image 91 finished\n",
      "---image 92 finished\n",
      "---image 93 finished\n",
      "---image 94 finished\n",
      "---image 95 finished\n",
      "---image 96 finished\n",
      "---image 97 finished\n",
      "---image 98 finished\n",
      "---image 99 finished\n",
      "---image 100 finished\n",
      "---image 101 finished\n",
      "---image 102 finished\n",
      "---image 103 finished\n",
      "---image 104 finished\n",
      "---image 105 finished\n",
      "---image 106 finished\n",
      "---image 107 finished\n",
      "---image 108 finished\n",
      "---image 109 finished\n",
      "---image 110 finished\n",
      "---image 111 finished\n",
      "---image 112 finished\n",
      "---image 113 finished\n",
      "---image 114 finished\n",
      "---image 115 finished\n",
      "---image 116 finished\n",
      "---image 117 finished\n",
      "---image 118 finished\n",
      "---image 119 finished\n"
     ]
    }
   ],
   "source": [
    "all_output = np.zeros([1,256])\n",
    "for i in range(120):\n",
    "    once_image = all_divide_image[i*3072:(i+1)*3072]/255\n",
    "    once_output = bottom_output([once_image])[0]\n",
    "    once_output = once_output.reshape(3072,256)\n",
    "    all_output = np.vstack((all_output,once_output))\n",
    "    print(\"---image %d finished\" %(i))"
   ]
  },
  {
   "cell_type": "code",
   "execution_count": 79,
   "metadata": {},
   "outputs": [],
   "source": [
    "all_output = all_output[1:]"
   ]
  },
  {
   "cell_type": "code",
   "execution_count": 82,
   "metadata": {},
   "outputs": [
    {
     "name": "stdout",
     "output_type": "stream",
     "text": [
      "[0.48472245 0.09049576 0.06877631 0.03013542 0.02132451 0.018883\n",
      " 0.01106051 0.00929812 0.00836733 0.00736714 0.00650612 0.00571886\n",
      " 0.00518994 0.0050513  0.00477013 0.0045404 ]\n"
     ]
    }
   ],
   "source": [
    "pca = PCA(n_components=16)\n",
    "pca.fit(all_output)\n",
    "print(pca.explained_variance_ratio_)\n",
    "all_output_reduced = pca.transform(all_output)\n"
   ]
  },
  {
   "cell_type": "code",
   "execution_count": 83,
   "metadata": {},
   "outputs": [
    {
     "data": {
      "text/plain": [
       "(368640, 16)"
      ]
     },
     "execution_count": 83,
     "metadata": {},
     "output_type": "execute_result"
    }
   ],
   "source": [
    "all_output_reduced.shape"
   ]
  },
  {
   "cell_type": "code",
   "execution_count": 84,
   "metadata": {},
   "outputs": [],
   "source": [
    "from sklearn.cluster import MiniBatchKMeans,KMeans\n",
    "kmeans = MiniBatchKMeans(n_clusters=500,\n",
    "        random_state=0,\n",
    "        batch_size=50000,\n",
    "        max_iter=50).fit(all_output_reduced)"
   ]
  },
  {
   "cell_type": "code",
   "execution_count": 85,
   "metadata": {},
   "outputs": [],
   "source": [
    "code_book = kmeans.cluster_centers_\n",
    "d = kmeans.predict(all_output_reduced) "
   ]
  },
  {
   "cell_type": "code",
   "execution_count": 86,
   "metadata": {},
   "outputs": [
    {
     "name": "stdout",
     "output_type": "stream",
     "text": [
      "---image 0 finished\n",
      "---image 1 finished\n",
      "---image 2 finished\n",
      "---image 3 finished\n",
      "---image 4 finished\n",
      "---image 5 finished\n",
      "---image 6 finished\n",
      "---image 7 finished\n",
      "---image 8 finished\n",
      "---image 9 finished\n",
      "---image 10 finished\n",
      "---image 11 finished\n",
      "---image 12 finished\n",
      "---image 13 finished\n",
      "---image 14 finished\n",
      "---image 15 finished\n",
      "---image 16 finished\n",
      "---image 17 finished\n",
      "---image 18 finished\n",
      "---image 19 finished\n",
      "---image 20 finished\n",
      "---image 21 finished\n",
      "---image 22 finished\n",
      "---image 23 finished\n",
      "---image 24 finished\n",
      "---image 25 finished\n",
      "---image 26 finished\n",
      "---image 27 finished\n",
      "---image 28 finished\n",
      "---image 29 finished\n",
      "---image 30 finished\n",
      "---image 31 finished\n",
      "---image 32 finished\n",
      "---image 33 finished\n",
      "---image 34 finished\n",
      "---image 35 finished\n",
      "---image 36 finished\n",
      "---image 37 finished\n",
      "---image 38 finished\n",
      "---image 39 finished\n",
      "---image 40 finished\n",
      "---image 41 finished\n",
      "---image 42 finished\n",
      "---image 43 finished\n",
      "---image 44 finished\n",
      "---image 45 finished\n",
      "---image 46 finished\n",
      "---image 47 finished\n",
      "---image 48 finished\n",
      "---image 49 finished\n",
      "---image 50 finished\n",
      "---image 51 finished\n",
      "---image 52 finished\n",
      "---image 53 finished\n",
      "---image 54 finished\n",
      "---image 55 finished\n",
      "---image 56 finished\n",
      "---image 57 finished\n",
      "---image 58 finished\n",
      "---image 59 finished\n",
      "---image 60 finished\n",
      "---image 61 finished\n",
      "---image 62 finished\n",
      "---image 63 finished\n",
      "---image 64 finished\n",
      "---image 65 finished\n",
      "---image 66 finished\n",
      "---image 67 finished\n",
      "---image 68 finished\n",
      "---image 69 finished\n",
      "---image 70 finished\n",
      "---image 71 finished\n",
      "---image 72 finished\n",
      "---image 73 finished\n",
      "---image 74 finished\n",
      "---image 75 finished\n",
      "---image 76 finished\n",
      "---image 77 finished\n",
      "---image 78 finished\n",
      "---image 79 finished\n",
      "---image 80 finished\n",
      "---image 81 finished\n",
      "---image 82 finished\n",
      "---image 83 finished\n",
      "---image 84 finished\n",
      "---image 85 finished\n",
      "---image 86 finished\n",
      "---image 87 finished\n",
      "---image 88 finished\n",
      "---image 89 finished\n",
      "---image 90 finished\n",
      "---image 91 finished\n",
      "---image 92 finished\n",
      "---image 93 finished\n",
      "---image 94 finished\n",
      "---image 95 finished\n",
      "---image 96 finished\n",
      "---image 97 finished\n",
      "---image 98 finished\n",
      "---image 99 finished\n",
      "---image 100 finished\n",
      "---image 101 finished\n",
      "---image 102 finished\n",
      "---image 103 finished\n",
      "---image 104 finished\n",
      "---image 105 finished\n",
      "---image 106 finished\n",
      "---image 107 finished\n",
      "---image 108 finished\n",
      "---image 109 finished\n",
      "---image 110 finished\n",
      "---image 111 finished\n",
      "---image 112 finished\n",
      "---image 113 finished\n",
      "---image 114 finished\n",
      "---image 115 finished\n",
      "---image 116 finished\n",
      "---image 117 finished\n",
      "---image 118 finished\n",
      "---image 119 finished\n"
     ]
    }
   ],
   "source": [
    "all_frequence = np.zeros([120,500])\n",
    "for j in range(120):\n",
    "    label_image = d[j*3072:(j+1)*3072]\n",
    "    k = label_image.tolist()\n",
    "    h = Counter(k)\n",
    "    frequence_image = np.zeros(500)\n",
    "    for i in range(500):\n",
    "        frequence_image[i] = h[i]\n",
    "    all_frequence[j] = frequence_image\n",
    "    print(\"---image %d finished\" % (j))"
   ]
  },
  {
   "cell_type": "code",
   "execution_count": 87,
   "metadata": {},
   "outputs": [
    {
     "data": {
      "text/plain": [
       "array([ 7.,  3., 16.,  5.,  7.,  2.,  3., 12.,  6., 18.,  6.,  2., 34.,\n",
       "        0.,  6., 14.,  1.,  8.,  4., 10., 10., 11.,  2.,  5.,  7.,  5.,\n",
       "        8., 53.,  2.,  5.,  4.,  0.,  2.,  9., 15.,  6.,  5.,  9.,  0.,\n",
       "       10.,  5.,  6.,  9.,  4.,  7.,  5.,  0., 12.,  1.,  5.,  3.,  9.,\n",
       "        6.,  1., 13.,  3.,  1.,  0.,  4.,  8.,  5.,  0.,  1.,  1.,  2.,\n",
       "        5., 10., 12.,  3., 11., 22.,  4.,  6.,  4.,  6.,  3.,  7.,  5.,\n",
       "        1.,  5., 15.,  8.,  9.,  3.,  4.,  2.,  4.,  8.,  5.,  3.,  2.,\n",
       "        0., 17., 17.,  1.,  0., 22.,  3.,  3.,  6.,  3.,  4.,  7., 19.,\n",
       "        4., 16.,  6.,  3.,  8.,  1.,  1.,  0.,  3.,  5., 11.,  7.,  6.,\n",
       "        3., 16.,  2.,  1.,  4.,  8.,  4.,  5.,  2.,  4.,  8.,  5., 19.,\n",
       "        6., 12.,  3.,  6.,  1., 33.,  7.,  7.,  1.,  3., 10.,  9., 15.,\n",
       "        5., 10.,  2.,  3.,  3.,  1.,  5.,  5.,  5.,  3.,  4.,  4.,  3.,\n",
       "        3.,  1.,  5.,  7.,  7.,  9.,  7.,  8.,  1.,  1., 11.,  1.,  5.,\n",
       "        7.,  3., 13., 24., 19.,  7.,  5.,  0.,  4., 11., 19.,  7., 13.,\n",
       "       10.,  3.,  2.,  8.,  1.,  6.,  2.,  3.,  1.,  4., 11.,  4., 14.,\n",
       "        1.,  8.,  6.,  3.,  5.,  0.,  8., 25.,  2., 25.,  5., 20.,  3.,\n",
       "        9., 12.,  4.,  0.,  9.,  4., 19.,  1., 13.,  8.,  1.,  3.,  6.,\n",
       "        6., 10., 12.,  5.,  3.,  0.,  8.,  9., 11.,  1.,  3.,  7.,  4.,\n",
       "       21.,  2.,  5.,  0.,  1.,  6.,  2.,  5., 11., 19.,  9.,  9., 13.,\n",
       "        2.,  4., 29.,  1.,  5.,  0., 10.,  0.,  7., 20.,  5.,  3.,  2.,\n",
       "        3.,  4.,  0.,  2.,  2.,  3.,  4.,  7.,  3., 11., 13.,  5.,  3.,\n",
       "        0.,  7.,  1.,  3., 15.,  3.,  0., 15.,  4.,  6., 10.,  1., 11.,\n",
       "        0.,  3., 14., 14.,  8.,  0.,  5.,  5.,  1.,  1.,  8.,  3.,  4.,\n",
       "        0.,  1.,  9.,  2.,  7.,  0.,  3.,  0., 13., 10., 11., 10.,  0.,\n",
       "        7.,  2.,  9.,  7.,  1., 12.,  7.,  6.,  7.,  0.,  2.,  4.,  1.,\n",
       "       10.,  5.,  5.,  4.,  3.,  0.,  8.,  8.,  3.,  4.,  7.,  5.,  2.,\n",
       "        8.,  4.,  5.,  3.,  3.,  3.,  7.,  0., 12.,  0.,  1.,  9.,  1.,\n",
       "        3., 21.,  2.,  2.,  0.,  7.,  9.,  2.,  0., 13.,  0., 10.,  3.,\n",
       "        4.,  3.,  6.,  1.,  4.,  4.,  4.,  4.,  4.,  4.,  4.,  3.,  6.,\n",
       "        2.,  9.,  2.,  2.,  2.,  2.,  3.,  2.,  8.,  5.,  1.,  2.,  4.,\n",
       "        8., 28.,  0.,  5.,  0.,  2.,  3.,  2., 15.,  5.,  0.,  3.,  2.,\n",
       "        2., 12.,  2.,  6.,  9.,  2.,  1.,  3.,  5.,  8., 16.,  4.,  0.,\n",
       "        6.,  0.,  0.,  1.,  7.,  4., 11.,  4., 29.,  0.,  3.,  0.,  8.,\n",
       "        4.,  8.,  2.,  1.,  7.,  9.,  5., 15.,  4.,  0., 13.,  5.,  8.,\n",
       "        6., 16.,  4.,  7.,  4.,  3.,  3., 11.,  9.,  1., 13.,  9.,  8.,\n",
       "       11., 15.,  8.,  3.,  1.,  5.,  5.,  5.,  8.,  0.,  8., 20.,  7.,\n",
       "        0.,  9.,  9.,  5.,  9.,  1.,  1.,  3.,  8.,  7.,  7.,  0.,  3.,\n",
       "        6.,  9., 11., 13.,  3., 19.,  4.,  9.,  5.,  2.,  3., 20.,  0.,\n",
       "        2., 11.,  4.,  1.,  2., 12.])"
      ]
     },
     "execution_count": 87,
     "metadata": {},
     "output_type": "execute_result"
    }
   ],
   "source": [
    "all_frequence[1]"
   ]
  },
  {
   "cell_type": "code",
   "execution_count": 89,
   "metadata": {},
   "outputs": [
    {
     "name": "stderr",
     "output_type": "stream",
     "text": [
      "INFO:lda:n_documents: 120\n",
      "INFO:lda:vocab_size: 500\n",
      "INFO:lda:n_words: 368640\n",
      "INFO:lda:n_topics: 5\n",
      "INFO:lda:n_iter: 1000\n",
      "INFO:lda:<0> log likelihood: -2817499\n",
      "INFO:lda:<10> log likelihood: -2771585\n",
      "INFO:lda:<20> log likelihood: -2726089\n",
      "INFO:lda:<30> log likelihood: -2685768\n",
      "INFO:lda:<40> log likelihood: -2653097\n",
      "INFO:lda:<50> log likelihood: -2628618\n",
      "INFO:lda:<60> log likelihood: -2606775\n",
      "INFO:lda:<70> log likelihood: -2590170\n",
      "INFO:lda:<80> log likelihood: -2576399\n",
      "INFO:lda:<90> log likelihood: -2563652\n",
      "INFO:lda:<100> log likelihood: -2551115\n",
      "INFO:lda:<110> log likelihood: -2540155\n",
      "INFO:lda:<120> log likelihood: -2530780\n",
      "INFO:lda:<130> log likelihood: -2521262\n",
      "INFO:lda:<140> log likelihood: -2514518\n",
      "INFO:lda:<150> log likelihood: -2508958\n",
      "INFO:lda:<160> log likelihood: -2502107\n",
      "INFO:lda:<170> log likelihood: -2500311\n",
      "INFO:lda:<180> log likelihood: -2495474\n",
      "INFO:lda:<190> log likelihood: -2491931\n",
      "INFO:lda:<200> log likelihood: -2486179\n",
      "INFO:lda:<210> log likelihood: -2481240\n",
      "INFO:lda:<220> log likelihood: -2477354\n",
      "INFO:lda:<230> log likelihood: -2472052\n",
      "INFO:lda:<240> log likelihood: -2467350\n",
      "INFO:lda:<250> log likelihood: -2462277\n",
      "INFO:lda:<260> log likelihood: -2460709\n",
      "INFO:lda:<270> log likelihood: -2456092\n",
      "INFO:lda:<280> log likelihood: -2452735\n",
      "INFO:lda:<290> log likelihood: -2449499\n",
      "INFO:lda:<300> log likelihood: -2448872\n",
      "INFO:lda:<310> log likelihood: -2447893\n",
      "INFO:lda:<320> log likelihood: -2446537\n",
      "INFO:lda:<330> log likelihood: -2443576\n",
      "INFO:lda:<340> log likelihood: -2441380\n",
      "INFO:lda:<350> log likelihood: -2436949\n",
      "INFO:lda:<360> log likelihood: -2435204\n",
      "INFO:lda:<370> log likelihood: -2433427\n",
      "INFO:lda:<380> log likelihood: -2431208\n",
      "INFO:lda:<390> log likelihood: -2430452\n",
      "INFO:lda:<400> log likelihood: -2429642\n",
      "INFO:lda:<410> log likelihood: -2428550\n",
      "INFO:lda:<420> log likelihood: -2426704\n",
      "INFO:lda:<430> log likelihood: -2422691\n",
      "INFO:lda:<440> log likelihood: -2421382\n",
      "INFO:lda:<450> log likelihood: -2421136\n",
      "INFO:lda:<460> log likelihood: -2418841\n",
      "INFO:lda:<470> log likelihood: -2418273\n",
      "INFO:lda:<480> log likelihood: -2416994\n",
      "INFO:lda:<490> log likelihood: -2417783\n",
      "INFO:lda:<500> log likelihood: -2417558\n",
      "INFO:lda:<510> log likelihood: -2415879\n",
      "INFO:lda:<520> log likelihood: -2413998\n",
      "INFO:lda:<530> log likelihood: -2411343\n",
      "INFO:lda:<540> log likelihood: -2409551\n",
      "INFO:lda:<550> log likelihood: -2410559\n",
      "INFO:lda:<560> log likelihood: -2409689\n",
      "INFO:lda:<570> log likelihood: -2409766\n",
      "INFO:lda:<580> log likelihood: -2408173\n",
      "INFO:lda:<590> log likelihood: -2408023\n",
      "INFO:lda:<600> log likelihood: -2405832\n",
      "INFO:lda:<610> log likelihood: -2406021\n",
      "INFO:lda:<620> log likelihood: -2404498\n",
      "INFO:lda:<630> log likelihood: -2404329\n",
      "INFO:lda:<640> log likelihood: -2404048\n",
      "INFO:lda:<650> log likelihood: -2402542\n",
      "INFO:lda:<660> log likelihood: -2400347\n",
      "INFO:lda:<670> log likelihood: -2397927\n",
      "INFO:lda:<680> log likelihood: -2399411\n",
      "INFO:lda:<690> log likelihood: -2399165\n",
      "INFO:lda:<700> log likelihood: -2398054\n",
      "INFO:lda:<710> log likelihood: -2397194\n",
      "INFO:lda:<720> log likelihood: -2395937\n",
      "INFO:lda:<730> log likelihood: -2392984\n",
      "INFO:lda:<740> log likelihood: -2392673\n",
      "INFO:lda:<750> log likelihood: -2390170\n",
      "INFO:lda:<760> log likelihood: -2389580\n",
      "INFO:lda:<770> log likelihood: -2387884\n",
      "INFO:lda:<780> log likelihood: -2387951\n",
      "INFO:lda:<790> log likelihood: -2388676\n",
      "INFO:lda:<800> log likelihood: -2387781\n",
      "INFO:lda:<810> log likelihood: -2386172\n",
      "INFO:lda:<820> log likelihood: -2386206\n",
      "INFO:lda:<830> log likelihood: -2389088\n",
      "INFO:lda:<840> log likelihood: -2388156\n",
      "INFO:lda:<850> log likelihood: -2389323\n",
      "INFO:lda:<860> log likelihood: -2388983\n",
      "INFO:lda:<870> log likelihood: -2387519\n",
      "INFO:lda:<880> log likelihood: -2387188\n",
      "INFO:lda:<890> log likelihood: -2387555\n",
      "INFO:lda:<900> log likelihood: -2387997\n",
      "INFO:lda:<910> log likelihood: -2386516\n",
      "INFO:lda:<920> log likelihood: -2386264\n",
      "INFO:lda:<930> log likelihood: -2386564\n",
      "INFO:lda:<940> log likelihood: -2386669\n",
      "INFO:lda:<950> log likelihood: -2385746\n",
      "INFO:lda:<960> log likelihood: -2384301\n",
      "INFO:lda:<970> log likelihood: -2383095\n",
      "INFO:lda:<980> log likelihood: -2380812\n",
      "INFO:lda:<990> log likelihood: -2380809\n",
      "INFO:lda:<999> log likelihood: -2380951\n"
     ]
    },
    {
     "data": {
      "text/plain": [
       "<lda.lda.LDA at 0x7f3a9fa531d0>"
      ]
     },
     "execution_count": 89,
     "metadata": {},
     "output_type": "execute_result"
    }
   ],
   "source": [
    "import lda\n",
    "all_frequence = all_frequence.astype(np.int32)\n",
    "model = lda.LDA(n_topics=5, n_iter=1000, random_state=1)\n",
    "model.fit(all_frequence)"
   ]
  },
  {
   "cell_type": "code",
   "execution_count": 90,
   "metadata": {},
   "outputs": [
    {
     "data": {
      "image/png": "[encoded data removed]",
      "text/plain": [
       "<Figure size 720x1152 with 5 Axes>"
      ]
     },
     "metadata": {
      "needs_background": "light"
     },
     "output_type": "display_data"
    }
   ],
   "source": [
    "topic_word = model.topic_word_\n",
    "f, ax= plt.subplots(5, 1, figsize=(10, 16), sharex=True)\n",
    "for i, k in enumerate([0, 1, 2, 3,4]):\n",
    "    ax[i].stem(topic_word[k,:], linefmt='b-',\n",
    "               markerfmt='bo', basefmt='w-')\n",
    "    ax[i].set_xlim(0,500)\n",
    "    ax[i].set_ylim(0, 0.06)\n",
    "    ax[i].set_ylabel(\"Prob\")\n",
    "    ax[i].set_title(\"Category {}\".format(k))\n",
    "    ax[i].set_xlabel(\"patch\")\n",
    "plt.tight_layout()\n",
    "plt.show()"
   ]
  },
  {
   "cell_type": "code",
   "execution_count": 38,
   "metadata": {},
   "outputs": [
    {
     "data": {
      "image/png": "[encoded data removed]",
      "text/plain": [
       "<Figure size 360x1152 with 6 Axes>"
      ]
     },
     "metadata": {
      "needs_background": "light"
     },
     "output_type": "display_data"
    }
   ],
   "source": [
    "doc_topic = model.doc_topic_\n",
    "f, ax= plt.subplots(6, 1, figsize=(5, 16), sharex=True)\n",
    "for i, k in enumerate([0, 1, 2, 3, 4,5]):\n",
    "    ax[i].stem(doc_topic[k,:], linefmt='r-',\n",
    "               markerfmt='ro', basefmt='w-')\n",
    "    ax[i].set_xlim(-1, 6)\n",
    "    ax[i].set_ylim(0, 1)\n",
    "    ax[i].set_ylabel(\"Prob\")\n",
    "    ax[i].set_title(\"Image {}\".format(k))\n",
    "    ax[i].set_xlabel(\"category\")\n",
    "    \n",
    "plt.tight_layout()\n",
    "\n",
    "plt.show()"
   ]
  },
  {
   "cell_type": "code",
   "execution_count": 91,
   "metadata": {},
   "outputs": [],
   "source": [
    "#%% LDA model\n",
    "def LDA_output(input_patch):\n",
    "    #get the output of bottom layer of autoencoder\n",
    "    autoencoder_feature = bottom_output([input_patch])[0]\n",
    "    autoencoder_feature = autoencoder_feature.reshape(1,256)\n",
    "    #PCA\n",
    "    feature_reduced = pca.transform(autoencoder_feature)\n",
    "    #find the center in the codebook\n",
    "    \n",
    "    code_center = int(kmeans.predict(feature_reduced))\n",
    "    #find the category of input\n",
    "    category = np.argmax(topic_word[:,code_center])\n",
    "    return category"
   ]
  },
  {
   "cell_type": "code",
   "execution_count": 92,
   "metadata": {},
   "outputs": [],
   "source": [
    "def percent_coral(testimage):\n",
    "    count = 0\n",
    "    #blue = np.array([0,0,255], dtype=np.uint8)\n",
    "    test = np.uint8(testimage)\n",
    "    pixel = np.zeros([1,1,3],dtype = np.uint8)\n",
    "    for r in range(0,test.shape[0]):\n",
    "        for c in range(0,test.shape[1]):\n",
    "            pixel = test[r,c,:]\n",
    "            #if(np.all(pixel == blue)):\n",
    "            if((pixel[0]==0)and(pixel[1]==0)):\n",
    "                count = count +1\n",
    "    all_pixel = test.shape[0]*test.shape[1]\n",
    "    coral_percent = (count/all_pixel)*100 \n",
    "    coral_percent = round(coral_percent,2)\n",
    "    return coral_percent "
   ]
  },
  {
   "cell_type": "code",
   "execution_count": 94,
   "metadata": {},
   "outputs": [
    {
     "name": "stdout",
     "output_type": "stream",
     "text": [
      "---image1 finished in 200.3858392238617 seconds ---\n",
      "there are 34.99% coral in this image\n"
     ]
    }
   ],
   "source": [
    "windowsize_r = 32\n",
    "windowsize_c = 32\n",
    "image_path = (\"./2012image/201208172_T-12-58-58_Dive_01_041.jpg\")\n",
    "#image_files  = glob.glob(\"./test_image/*\")\n",
    "count = 0\n",
    "testimage = Image.new('RGB', (2048,1536))\n",
    "test_image = imread(image_path)\n",
    "start_time = time.time()\n",
    "for r in range(0,test_image.shape[0] - windowsize_r+1, 6):\n",
    "    for c in range(0,test_image.shape[1] - windowsize_c+1, 6):\n",
    "        window = test_image[r:r+windowsize_r,c:c+windowsize_c]\n",
    "        window  = window/255\n",
    "        window = window.reshape(-1,32,32,3)\n",
    "        y_pred = LDA_output(window)\n",
    "        if(y_pred==0):#CCA---red\n",
    "            testimage.paste((0,0,255),[c,r,c+windowsize_c,r+windowsize_r])\n",
    "        elif(y_pred==1):#coral---blue\n",
    "            testimage.paste((169,169,169),[c,r,c+windowsize_c,r+windowsize_r])\n",
    "        elif(y_pred==2):#ROC---deep gray\n",
    "            testimage.paste((255,0,0),[c,r,c+windowsize_c,r+windowsize_r])\n",
    "        elif(y_pred==3):#Ana---green\n",
    "            testimage.paste((255,255,0),[c,r,c+windowsize_c,r+windowsize_r])\n",
    "        #elif(y_pred==4):#DCP---slight gray\n",
    "            #testimage.paste((105,105,105),[c,r,c+windowsize_c,r+windowsize_r])\n",
    "        else:#others---yellow\n",
    "            testimage.paste((0,255,0),[c,r,c+windowsize_c,r+windowsize_r])\n",
    "count = count+1\n",
    "percent = percent_coral(testimage)\n",
    "testimage.save('./result/'+'result'+str(percent)+'.jpg')\n",
    "print((\"---image%d finished in %s seconds ---\" % (count,(time.time()-start_time))))\n",
    "print(\"there are {0}% coral in this image\".format(percent))"
   ]
  },
  {
   "cell_type": "code",
   "execution_count": 56,
   "metadata": {},
   "outputs": [],
   "source": []
  },
  {
   "cell_type": "code",
   "execution_count": null,
   "metadata": {},
   "outputs": [],
   "source": []
  }
 ],
 "metadata": {
  "kernelspec": {
   "display_name": "Python 3",
   "language": "python",
   "name": "python3"
  },
  "language_info": {
   "codemirror_mode": {
    "name": "ipython",
    "version": 3
   },
   "file_extension": ".py",
   "mimetype": "text/x-python",
   "name": "python",
   "nbconvert_exporter": "python",
   "pygments_lexer": "ipython3",
   "version": "3.5.6"
  }
 },
 "nbformat": 4,
 "nbformat_minor": 2
}
