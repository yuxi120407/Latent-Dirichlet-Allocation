{
 "cells": [
  {
   "cell_type": "code",
   "execution_count": 17,
   "metadata": {},
   "outputs": [
    {
     "name": "stdout",
     "output_type": "stream",
     "text": [
      "tensorflow\n"
     ]
    }
   ],
   "source": [
    "import os\n",
    "os.environ[\"KERAS_BACKEND\"] = \"tensorflow\"\n",
    "kerasBKED = os.environ[\"KERAS_BACKEND\"] \n",
    "print(kerasBKED)"
   ]
  },
  {
   "cell_type": "code",
   "execution_count": 18,
   "metadata": {},
   "outputs": [],
   "source": [
    "from keras.preprocessing.image import ImageDataGenerator,array_to_img, img_to_array, load_img\n",
    "import glob\n",
    "from skimage.io import imread\n",
    "from PIL import Image\n",
    "import matplotlib.pyplot as plt\n",
    "import numpy as np \n",
    "import os\n",
    "from keras import backend as K\n",
    "from sklearn.cluster import MiniBatchKMeans,KMeans\n",
    "from collections import Counter\n",
    "from sklearn.decomposition import PCA\n",
    "#import lda\n",
    "import time\n",
    "#%%\n",
    "import keras\n",
    "from keras.models import Sequential\n",
    "from keras.layers import Dense, Dropout, Activation, Flatten,Input\n",
    "from keras.layers import Conv2D, MaxPooling2D\n",
    "from keras import backend as K\n",
    "from function import newtxt,newimagedata,create_plots,plot_confusion_matrix,cnn_model,cnn_model1,cnn_model2\n",
    "\n",
    "from sklearn.metrics import classification_report, confusion_matrix\n",
    "import numpy as np \n",
    "import os\n",
    "from keras.utils.vis_utils import plot_model\n",
    "from sklearn.decomposition import PCA"
   ]
  },
  {
   "cell_type": "code",
   "execution_count": 19,
   "metadata": {},
   "outputs": [
    {
     "name": "stdout",
     "output_type": "stream",
     "text": [
      "---image 1 finished\n",
      "---image 2 finished\n",
      "---image 3 finished\n",
      "---image 4 finished\n",
      "---image 5 finished\n",
      "---image 6 finished\n",
      "---image 7 finished\n",
      "---image 8 finished\n",
      "---image 9 finished\n",
      "---image 10 finished\n",
      "---image 11 finished\n",
      "---image 12 finished\n",
      "---image 13 finished\n",
      "---image 14 finished\n",
      "---image 15 finished\n",
      "---image 16 finished\n",
      "---image 17 finished\n",
      "---image 18 finished\n",
      "---image 19 finished\n",
      "---image 20 finished\n",
      "---image 21 finished\n",
      "---image 22 finished\n",
      "---image 23 finished\n",
      "---image 24 finished\n",
      "---image 25 finished\n",
      "---image 26 finished\n",
      "---image 27 finished\n",
      "---image 28 finished\n",
      "---image 29 finished\n",
      "---image 30 finished\n",
      "---image 31 finished\n",
      "---image 32 finished\n",
      "---image 33 finished\n",
      "---image 34 finished\n",
      "---image 35 finished\n",
      "---image 36 finished\n",
      "---image 37 finished\n",
      "---image 38 finished\n",
      "---image 39 finished\n",
      "---image 40 finished\n",
      "---image 41 finished\n",
      "---image 42 finished\n",
      "---image 43 finished\n",
      "---image 44 finished\n",
      "---image 45 finished\n",
      "---image 46 finished\n",
      "---image 47 finished\n",
      "---image 48 finished\n",
      "---image 49 finished\n",
      "---image 50 finished\n",
      "---image 51 finished\n",
      "---image 52 finished\n",
      "---image 53 finished\n",
      "---image 54 finished\n",
      "---image 55 finished\n",
      "---image 56 finished\n",
      "---image 57 finished\n",
      "---image 58 finished\n",
      "---image 59 finished\n",
      "---image 60 finished\n",
      "---image 61 finished\n",
      "---image 62 finished\n",
      "---image 63 finished\n",
      "---image 64 finished\n",
      "---image 65 finished\n",
      "---image 66 finished\n",
      "---image 67 finished\n",
      "---image 68 finished\n",
      "---image 69 finished\n",
      "---image 70 finished\n",
      "---image 71 finished\n",
      "---image 72 finished\n",
      "---image 73 finished\n",
      "---image 74 finished\n",
      "---image 75 finished\n",
      "---image 76 finished\n",
      "---image 77 finished\n",
      "---image 78 finished\n",
      "---image 79 finished\n",
      "---image 80 finished\n",
      "---image 81 finished\n",
      "---image 82 finished\n",
      "---image 83 finished\n",
      "---image 84 finished\n",
      "---image 85 finished\n",
      "---image 86 finished\n",
      "---image 87 finished\n",
      "---image 88 finished\n",
      "---image 89 finished\n",
      "---image 90 finished\n",
      "---image 91 finished\n",
      "---image 92 finished\n",
      "---image 93 finished\n",
      "---image 94 finished\n",
      "---image 95 finished\n",
      "---image 96 finished\n",
      "---image 97 finished\n",
      "---image 98 finished\n",
      "---image 99 finished\n",
      "---image 100 finished\n",
      "---image 101 finished\n",
      "---image 102 finished\n",
      "---image 103 finished\n",
      "---image 104 finished\n",
      "---image 105 finished\n",
      "---image 106 finished\n",
      "---image 107 finished\n",
      "---image 108 finished\n",
      "---image 109 finished\n",
      "---image 110 finished\n",
      "---image 111 finished\n",
      "---image 112 finished\n",
      "---image 113 finished\n",
      "---image 114 finished\n",
      "---image 115 finished\n",
      "---image 116 finished\n",
      "---image 117 finished\n",
      "---image 118 finished\n",
      "---image 119 finished\n",
      "---image 120 finished\n"
     ]
    }
   ],
   "source": [
    "count = 0\n",
    "all_divide_image = np.zeros([1,32,32,3])\n",
    "read_files = glob.glob(\"./2012raw_data/*.txt\")\n",
    "for name in read_files:\n",
    "    name = name.split(\"/\")[2]\n",
    "    name = name.split(\".\")[0]\n",
    "    path_image = str('./2012image/')+name+str('.jpg')\n",
    "    single_img = imread(path_image)\n",
    "    divide_image = np.zeros([3072,32,32,3])\n",
    "    count_patch = 0\n",
    "    for i in range(64):\n",
    "        for j in range(48):\n",
    "            divide_image[count_patch,:,:,:] = single_img[j*32:(j+1)*32,i*32:(i+1)*32]\n",
    "            count_patch = count_patch + 1\n",
    "    all_divide_image = np.vstack((all_divide_image,divide_image))\n",
    "    count = count + 1\n",
    "    print(\"---image %d finished\" % (count))"
   ]
  },
  {
   "cell_type": "code",
   "execution_count": 20,
   "metadata": {},
   "outputs": [],
   "source": [
    "all_divide_image = all_divide_image[1:]"
   ]
  },
  {
   "cell_type": "code",
   "execution_count": 27,
   "metadata": {},
   "outputs": [],
   "source": [
    "num = all_divide_image.shape[0]\n",
    "all_divide_image = all_divide_image.reshape(num,3072)"
   ]
  },
  {
   "cell_type": "code",
   "execution_count": 29,
   "metadata": {},
   "outputs": [],
   "source": [
    "import random\n",
    "random.shuffle(all_divide_image)"
   ]
  },
  {
   "cell_type": "code",
   "execution_count": 30,
   "metadata": {},
   "outputs": [],
   "source": [
    "all_divide_image = all_divide_image.reshape(num,32,32,3)"
   ]
  },
  {
   "cell_type": "code",
   "execution_count": 31,
   "metadata": {},
   "outputs": [],
   "source": [
    "batch_size = 32\n",
    "num_classes = 10\n",
    "epochs = 100\n",
    "x_train = all_divide_image[0:300000]\n",
    "x_test = all_divide_image[300000:]"
   ]
  },
  {
   "cell_type": "code",
   "execution_count": 32,
   "metadata": {},
   "outputs": [
    {
     "name": "stdout",
     "output_type": "stream",
     "text": [
      "x_train shape: (300000, 32, 32, 3)\n",
      "300000 train samples\n",
      "68640 test samples\n"
     ]
    }
   ],
   "source": [
    "x_train = x_train.astype('float32')\n",
    "x_test = x_test.astype('float32')\n",
    "x_train /= 255\n",
    "x_test /= 255\n",
    "print('x_train shape:', x_train.shape)\n",
    "print(x_train.shape[0], 'train samples')\n",
    "print(x_test.shape[0], 'test samples')"
   ]
  },
  {
   "cell_type": "code",
   "execution_count": 33,
   "metadata": {},
   "outputs": [],
   "source": [
    "from keras.layers import Input,BatchNormalization,UpSampling2D\n",
    "from keras.models import load_model,Model"
   ]
  },
  {
   "cell_type": "code",
   "execution_count": 34,
   "metadata": {},
   "outputs": [],
   "source": [
    "input_img = Input(shape=(32, 32, 3))\n",
    "x = Conv2D(64, (3, 3), padding='same')(input_img)\n",
    "x = BatchNormalization()(x)\n",
    "x = Activation('relu')(x)\n",
    "x = MaxPooling2D((2, 2), padding='same')(x)\n",
    "x = Conv2D(32, (3, 3), padding='same')(x)\n",
    "x = BatchNormalization()(x)\n",
    "x = Activation('relu')(x)\n",
    "x = MaxPooling2D((2, 2), padding='same')(x)\n",
    "x = Conv2D(16, (3, 3), padding='same')(x)\n",
    "x = BatchNormalization()(x)\n",
    "x = Activation('relu')(x)\n",
    "encoded = MaxPooling2D((2, 2), padding='same')(x)\n",
    "\n",
    "x = Conv2D(16, (3, 3), padding='same')(encoded)\n",
    "x = BatchNormalization()(x)\n",
    "x = Activation('relu')(x)\n",
    "x = UpSampling2D((2, 2))(x)\n",
    "x = Conv2D(32, (3, 3), padding='same')(x)\n",
    "x = BatchNormalization()(x)\n",
    "x = Activation('relu')(x)\n",
    "x = UpSampling2D((2, 2))(x)\n",
    "x = Conv2D(64, (3, 3), padding='same')(x)\n",
    "x = BatchNormalization()(x)\n",
    "x = Activation('relu')(x)\n",
    "x = UpSampling2D((2, 2))(x)\n",
    "x = Conv2D(3, (3, 3), padding='same')(x)\n",
    "x = BatchNormalization()(x)\n",
    "decoded = Activation('sigmoid')(x)"
   ]
  },
  {
   "cell_type": "code",
   "execution_count": 35,
   "metadata": {},
   "outputs": [],
   "source": [
    "model = Model(input_img, decoded)\n",
    "model.compile(optimizer='adam', loss='binary_crossentropy')"
   ]
  },
  {
   "cell_type": "code",
   "execution_count": 36,
   "metadata": {},
   "outputs": [
    {
     "name": "stdout",
     "output_type": "stream",
     "text": [
      "_________________________________________________________________\n",
      "Layer (type)                 Output Shape              Param #   \n",
      "=================================================================\n",
      "input_2 (InputLayer)         (None, 32, 32, 3)         0         \n",
      "_________________________________________________________________\n",
      "conv2d_8 (Conv2D)            (None, 32, 32, 64)        1792      \n",
      "_________________________________________________________________\n",
      "batch_normalization_8 (Batch (None, 32, 32, 64)        256       \n",
      "_________________________________________________________________\n",
      "activation_8 (Activation)    (None, 32, 32, 64)        0         \n",
      "_________________________________________________________________\n",
      "max_pooling2d_4 (MaxPooling2 (None, 16, 16, 64)        0         \n",
      "_________________________________________________________________\n",
      "conv2d_9 (Conv2D)            (None, 16, 16, 32)        18464     \n",
      "_________________________________________________________________\n",
      "batch_normalization_9 (Batch (None, 16, 16, 32)        128       \n",
      "_________________________________________________________________\n",
      "activation_9 (Activation)    (None, 16, 16, 32)        0         \n",
      "_________________________________________________________________\n",
      "max_pooling2d_5 (MaxPooling2 (None, 8, 8, 32)          0         \n",
      "_________________________________________________________________\n",
      "conv2d_10 (Conv2D)           (None, 8, 8, 16)          4624      \n",
      "_________________________________________________________________\n",
      "batch_normalization_10 (Batc (None, 8, 8, 16)          64        \n",
      "_________________________________________________________________\n",
      "activation_10 (Activation)   (None, 8, 8, 16)          0         \n",
      "_________________________________________________________________\n",
      "max_pooling2d_6 (MaxPooling2 (None, 4, 4, 16)          0         \n",
      "_________________________________________________________________\n",
      "conv2d_11 (Conv2D)           (None, 4, 4, 16)          2320      \n",
      "_________________________________________________________________\n",
      "batch_normalization_11 (Batc (None, 4, 4, 16)          64        \n",
      "_________________________________________________________________\n",
      "activation_11 (Activation)   (None, 4, 4, 16)          0         \n",
      "_________________________________________________________________\n",
      "up_sampling2d_4 (UpSampling2 (None, 8, 8, 16)          0         \n",
      "_________________________________________________________________\n",
      "conv2d_12 (Conv2D)           (None, 8, 8, 32)          4640      \n",
      "_________________________________________________________________\n",
      "batch_normalization_12 (Batc (None, 8, 8, 32)          128       \n",
      "_________________________________________________________________\n",
      "activation_12 (Activation)   (None, 8, 8, 32)          0         \n",
      "_________________________________________________________________\n",
      "up_sampling2d_5 (UpSampling2 (None, 16, 16, 32)        0         \n",
      "_________________________________________________________________\n",
      "conv2d_13 (Conv2D)           (None, 16, 16, 64)        18496     \n",
      "_________________________________________________________________\n",
      "batch_normalization_13 (Batc (None, 16, 16, 64)        256       \n",
      "_________________________________________________________________\n",
      "activation_13 (Activation)   (None, 16, 16, 64)        0         \n",
      "_________________________________________________________________\n",
      "up_sampling2d_6 (UpSampling2 (None, 32, 32, 64)        0         \n",
      "_________________________________________________________________\n",
      "conv2d_14 (Conv2D)           (None, 32, 32, 3)         1731      \n",
      "_________________________________________________________________\n",
      "batch_normalization_14 (Batc (None, 32, 32, 3)         12        \n",
      "_________________________________________________________________\n",
      "activation_14 (Activation)   (None, 32, 32, 3)         0         \n",
      "=================================================================\n",
      "Total params: 52,975\n",
      "Trainable params: 52,521\n",
      "Non-trainable params: 454\n",
      "_________________________________________________________________\n"
     ]
    }
   ],
   "source": [
    "model.summary()"
   ]
  },
  {
   "cell_type": "code",
   "execution_count": 38,
   "metadata": {},
   "outputs": [
    {
     "name": "stdout",
     "output_type": "stream",
     "text": [
      "validation data: (20000, 32, 32, 3) \n",
      "test data: (38640, 32, 32, 3)\n"
     ]
    }
   ],
   "source": [
    "x_val = x_test[:20000]\n",
    "x_test = x_test[20000:]\n",
    "print(\"validation data: {0} \\ntest data: {1}\".format(x_val.shape, x_test.shape))"
   ]
  },
  {
   "cell_type": "code",
   "execution_count": 39,
   "metadata": {},
   "outputs": [],
   "source": [
    "from keras.callbacks import EarlyStopping, ModelCheckpoint\n",
    "es_cb = EarlyStopping(monitor='val_loss', patience=2, verbose=1, mode='auto')\n",
    "chkpt = 'AutoEncoder_weights.{epoch:02d}-{loss:.2f}-{val_loss:.2f}.hdf5'\n",
    "cp_cb = ModelCheckpoint(filepath = chkpt, monitor='val_loss', verbose=1, save_best_only=True, mode='auto')"
   ]
  },
  {
   "cell_type": "code",
   "execution_count": 40,
   "metadata": {},
   "outputs": [
    {
     "name": "stdout",
     "output_type": "stream",
     "text": [
      "Train on 300000 samples, validate on 20000 samples\n",
      "Epoch 1/100\n",
      "300000/300000 [==============================] - 313s 1ms/step - loss: 0.5364 - val_loss: 0.5266\n",
      "\n",
      "Epoch 00001: val_loss improved from inf to 0.52655, saving model to AutoEncoder_weights.01-0.54-0.53.hdf5\n",
      "Epoch 2/100\n",
      "300000/300000 [==============================] - 312s 1ms/step - loss: 0.5321 - val_loss: 0.5251\n",
      "\n",
      "Epoch 00002: val_loss improved from 0.52655 to 0.52513, saving model to AutoEncoder_weights.02-0.53-0.53.hdf5\n",
      "Epoch 3/100\n",
      "300000/300000 [==============================] - 312s 1ms/step - loss: 0.5311 - val_loss: 0.5241\n",
      "\n",
      "Epoch 00003: val_loss improved from 0.52513 to 0.52407, saving model to AutoEncoder_weights.03-0.53-0.52.hdf5\n",
      "Epoch 4/100\n",
      "300000/300000 [==============================] - 313s 1ms/step - loss: 0.5306 - val_loss: 0.5245\n",
      "\n",
      "Epoch 00004: val_loss did not improve\n",
      "Epoch 5/100\n",
      "300000/300000 [==============================] - 312s 1ms/step - loss: 0.5303 - val_loss: 0.5239\n",
      "\n",
      "Epoch 00005: val_loss improved from 0.52407 to 0.52391, saving model to AutoEncoder_weights.05-0.53-0.52.hdf5\n",
      "Epoch 6/100\n",
      "300000/300000 [==============================] - 312s 1ms/step - loss: 0.5295 - val_loss: 0.5237\n",
      "\n",
      "Epoch 00006: val_loss improved from 0.52391 to 0.52366, saving model to AutoEncoder_weights.06-0.53-0.52.hdf5\n",
      "Epoch 7/100\n",
      "300000/300000 [==============================] - 312s 1ms/step - loss: 0.5290 - val_loss: 0.5231\n",
      "\n",
      "Epoch 00007: val_loss improved from 0.52366 to 0.52312, saving model to AutoEncoder_weights.07-0.53-0.52.hdf5\n",
      "Epoch 8/100\n",
      "300000/300000 [==============================] - 312s 1ms/step - loss: 0.5287 - val_loss: 0.5228\n",
      "\n",
      "Epoch 00008: val_loss improved from 0.52312 to 0.52281, saving model to AutoEncoder_weights.08-0.53-0.52.hdf5\n",
      "Epoch 9/100\n",
      "300000/300000 [==============================] - 312s 1ms/step - loss: 0.5285 - val_loss: 0.5229\n",
      "\n",
      "Epoch 00009: val_loss did not improve\n",
      "Epoch 10/100\n",
      "300000/300000 [==============================] - 312s 1ms/step - loss: 0.5284 - val_loss: 0.5232\n",
      "\n",
      "Epoch 00010: val_loss did not improve\n",
      "Epoch 00010: early stopping\n"
     ]
    }
   ],
   "source": [
    "history = model.fit(x_train, x_train,\n",
    "                    batch_size=batch_size,\n",
    "                    epochs=epochs,\n",
    "                    verbose=1,\n",
    "                    validation_data=(x_val, x_val),\n",
    "                    callbacks=[es_cb, cp_cb],\n",
    "                    shuffle=True)"
   ]
  },
  {
   "cell_type": "code",
   "execution_count": 41,
   "metadata": {},
   "outputs": [],
   "source": [
    "# definition to show original image and reconstructed image\n",
    "def showOrigDec(orig, dec, num=10):\n",
    "    import matplotlib.pyplot as plt\n",
    "    n = num\n",
    "    plt.figure(figsize=(20, 4))\n",
    "\n",
    "    for i in range(n):\n",
    "        # display original\n",
    "        ax = plt.subplot(2, n, i+1)\n",
    "        plt.imshow(orig[i].reshape(32, 32, 3))\n",
    "        ax.get_xaxis().set_visible(False)\n",
    "        ax.get_yaxis().set_visible(False)\n",
    "\n",
    "        # display reconstruction\n",
    "        ax = plt.subplot(2, n, i +1 + n)\n",
    "        plt.imshow(dec[i].reshape(32, 32, 3))\n",
    "        ax.get_xaxis().set_visible(False)\n",
    "        ax.get_yaxis().set_visible(False)\n",
    "    plt.show()"
   ]
  },
  {
   "cell_type": "code",
   "execution_count": 42,
   "metadata": {},
   "outputs": [],
   "source": [
    "c10test = model.predict(x_test)\n",
    "c10val = model.predict(x_val)"
   ]
  },
  {
   "cell_type": "code",
   "execution_count": 43,
   "metadata": {},
   "outputs": [
    {
     "data": {
      "image/png": "[encoded data removed]",
      "text/plain": [
       "<Figure size 1440x288 with 20 Axes>"
      ]
     },
     "metadata": {
      "needs_background": "light"
     },
     "output_type": "display_data"
    }
   ],
   "source": [
    "showOrigDec(x_test, c10test)"
   ]
  },
  {
   "cell_type": "code",
   "execution_count": 45,
   "metadata": {},
   "outputs": [
    {
     "ename": "ImportError",
     "evalue": "No module named 'lda'",
     "output_type": "error",
     "traceback": [
      "\u001b[0;31m---------------------------------------------------------------------------\u001b[0m",
      "\u001b[0;31mImportError\u001b[0m                               Traceback (most recent call last)",
      "\u001b[0;32m<ipython-input-45-ff680a865002>\u001b[0m in \u001b[0;36m<module>\u001b[0;34m()\u001b[0m\n\u001b[0;32m----> 1\u001b[0;31m \u001b[0;32mimport\u001b[0m \u001b[0mlda\u001b[0m\u001b[0;34m\u001b[0m\u001b[0m\n\u001b[0m",
      "\u001b[0;31mImportError\u001b[0m: No module named 'lda'"
     ]
    }
   ],
   "source": [
    "import lda"
   ]
  },
  {
   "cell_type": "code",
   "execution_count": null,
   "metadata": {},
   "outputs": [],
   "source": []
  }
 ],
 "metadata": {
  "kernelspec": {
   "display_name": "Python 3",
   "language": "python",
   "name": "python3"
  },
  "language_info": {
   "codemirror_mode": {
    "name": "ipython",
    "version": 3
   },
   "file_extension": ".py",
   "mimetype": "text/x-python",
   "name": "python",
   "nbconvert_exporter": "python",
   "pygments_lexer": "ipython3",
   "version": "3.5.6"
  }
 },
 "nbformat": 4,
 "nbformat_minor": 2
}
